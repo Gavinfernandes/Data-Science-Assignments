{
 "cells": [
  {
   "cell_type": "markdown",
   "metadata": {},
   "source": [
    "# Questions 1:\n",
    "Create a numpy array starting from 2 till 50 with a stepsize of 3."
   ]
  },
  {
   "cell_type": "code",
   "execution_count": 1,
   "metadata": {},
   "outputs": [],
   "source": [
    "import numpy as np"
   ]
  },
  {
   "cell_type": "code",
   "execution_count": 3,
   "metadata": {},
   "outputs": [
    {
     "name": "stdout",
     "output_type": "stream",
     "text": [
      "[ 2  5  8 11 14 17 20 23 26 29 32 35 38 41 44 47 50]\n"
     ]
    }
   ],
   "source": [
    "arr = np.arange(2,51,3)\n",
    "print(arr)"
   ]
  },
  {
   "cell_type": "markdown",
   "metadata": {},
   "source": [
    "# Questions 2:\n",
    "Accept two lists of 5 elements each from the user.\n",
    "Convert them to numpy arrays. Concatenate these arrays and print it. Also sort these arrays and print it."
   ]
  },
  {
   "cell_type": "code",
   "execution_count": 2,
   "metadata": {},
   "outputs": [
    {
     "name": "stdout",
     "output_type": "stream",
     "text": [
      "List 1: 1\n",
      "List 1: 4\n",
      "List 1: 6\n",
      "List 1: 8\n",
      "List 1: 9\n",
      "List 2: 3\n",
      "List 2: 2\n",
      "List 2: 5\n",
      "List 2: 9\n",
      "List 2: 7\n",
      "[1 2 3 4 5 6 7 8 9 9]\n"
     ]
    }
   ],
   "source": [
    "import numpy as np\n",
    "l1 = []\n",
    "l2 = []\n",
    "i = 5\n",
    "j = 5\n",
    "while i > 0:\n",
    "    val1 = int(input(\"List 1: \"))\n",
    "    l1.append(val1)\n",
    "    i -= 1\n",
    "while j > 0:\n",
    "    val2 = int(input(\"List 2: \"))\n",
    "    l2.append(val2)\n",
    "    j -= 1\n",
    "arr1 = np.array(l1)\n",
    "arr2 = np.array(l2)\n",
    "arr = np.concatenate((arr1,arr2))\n",
    "print(np.sort(arr))"
   ]
  },
  {
   "cell_type": "markdown",
   "metadata": {},
   "source": [
    "# Questions 3:\n",
    "Write a code snippet to find the dimensions of a ndarray and its size."
   ]
  },
  {
   "cell_type": "code",
   "execution_count": 10,
   "metadata": {},
   "outputs": [
    {
     "name": "stdout",
     "output_type": "stream",
     "text": [
      "Dimensions of these arrays are  1 2 2\n",
      "The size of these arrays are  4 6 10\n"
     ]
    }
   ],
   "source": [
    "import numpy as np\n",
    "arr1 = np.array([1,4,6,8])\n",
    "arr2 = np.arange(6).reshape(2,3)\n",
    "arr3 = np.arange(10).reshape(5,2)\n",
    "dim1 = arr1.ndim\n",
    "dim2 = arr2.ndim\n",
    "dim3 = arr3.ndim\n",
    "print(\"Dimensions of these arrays are \",dim1,dim2,dim3)\n",
    "print(\"The size of these arrays are \",arr1.size,arr2.size,arr3.size)"
   ]
  },
  {
   "cell_type": "markdown",
   "metadata": {},
   "source": [
    "# Questions 4:\n",
    "\n",
    "How to convert a 1D array into a 2D array? Demonstrate with the help of a code snippet\n",
    "Hint: np.newaxis, np.expand_dims"
   ]
  },
  {
   "cell_type": "code",
   "execution_count": 31,
   "metadata": {},
   "outputs": [
    {
     "name": "stdout",
     "output_type": "stream",
     "text": [
      "(1, 3)\n",
      "(1, 4)\n"
     ]
    }
   ],
   "source": [
    "arr = np.array([1,3,5])\n",
    "arr = np.expand_dims(arr,axis = 0)\n",
    "print(arr.shape)\n",
    "\n",
    "arr1 = np.array([1,3,5,7]) \n",
    "print(arr1[np.newaxis,:].shape)"
   ]
  },
  {
   "cell_type": "code",
   "execution_count": 9,
   "metadata": {},
   "outputs": [
    {
     "name": "stdout",
     "output_type": "stream",
     "text": [
      "Horizontal Append: [[0 1 0 1]\n",
      " [2 3 2 3]]\n",
      "Vertical Append: [[0 1]\n",
      " [2 3]\n",
      " [0 1]\n",
      " [2 3]]\n"
     ]
    }
   ],
   "source": [
    "import numpy as np\n",
    "arr = np.arange(4).reshape(2,2)\n",
    "arr1 = np.arange(4).reshape(2,2)\n",
    "print('Horizontal Append:',np.hstack((arr,arr1)))\n",
    "print('Vertical Append:',np.vstack((arr,arr1)))"
   ]
  },
  {
   "cell_type": "markdown",
   "metadata": {},
   "source": [
    "# Questions 6:\n",
    "How to get unique items and counts of unique items?"
   ]
  },
  {
   "cell_type": "code",
   "execution_count": 11,
   "metadata": {},
   "outputs": [
    {
     "name": "stdout",
     "output_type": "stream",
     "text": [
      "[[1 2]\n",
      " [3 2]\n",
      " [5 2]\n",
      " [7 3]\n",
      " [9 1]]\n"
     ]
    }
   ],
   "source": [
    "import numpy as np\n",
    "arr = np.array([1,3,1,3,5,7,5,7,7,9])\n",
    "unique,counts = np.unique(arr,return_counts = True)\n",
    "\n",
    "print(np.asarray((unique,counts)).T)"
   ]
  }
 ],
 "metadata": {
  "kernelspec": {
   "display_name": "Python 3",
   "language": "python",
   "name": "python3"
  },
  "language_info": {
   "codemirror_mode": {
    "name": "ipython",
    "version": 3
   },
   "file_extension": ".py",
   "mimetype": "text/x-python",
   "name": "python",
   "nbconvert_exporter": "python",
   "pygments_lexer": "ipython3",
   "version": "3.8.2"
  }
 },
 "nbformat": 4,
 "nbformat_minor": 4
}
